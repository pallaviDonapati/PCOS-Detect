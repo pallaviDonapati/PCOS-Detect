{
 "cells": [
  {
   "cell_type": "code",
   "execution_count": 2,
   "id": "f3a59e61",
   "metadata": {},
   "outputs": [],
   "source": [
    "import pandas as pd\n",
    "import os\n",
    "from skimage.transform import resize\n",
    "from skimage.io import imread\n",
    "import numpy as np\n",
    "import matplotlib.pyplot as plt\n",
    "from sklearn import svm\n",
    "from sklearn.model_selection import GridSearchCV\n",
    "from sklearn.model_selection import train_test_split\n",
    "from sklearn.metrics import accuracy_score\n",
    "from sklearn.metrics import classification_report\n"
   ]
  },
  {
   "cell_type": "code",
   "execution_count": 3,
   "id": "2ff9b486",
   "metadata": {},
   "outputs": [
    {
     "name": "stdout",
     "output_type": "stream",
     "text": [
      "loading... category : no\n",
      "PCOS aug\\no\n",
      "loaded category:no successfully\n",
      "loading... category : yes\n",
      "PCOS aug\\yes\n",
      "loaded category:yes successfully\n"
     ]
    }
   ],
   "source": [
    "Categories=['no','yes']\n",
    "flat_data_arr=[] #input array\n",
    "target_arr=[] #output array\n",
    "datadir='PCOS aug'\n",
    "#path which contains all the categories of images\n",
    "for i in Categories:\n",
    "\n",
    "    print(f'loading... category : {i}')\n",
    "    path=os.path.join(datadir,i)\n",
    "    print(path)\n",
    "    for img in os.listdir(path):\n",
    "        img_array=imread(os.path.join(path,img))\n",
    "        img_resized=resize(img_array,(150,150,3))\n",
    "        flat_data_arr.append(img_resized.flatten())\n",
    "        target_arr.append(Categories.index(i))\n",
    "    print(f'loaded category:{i} successfully')\n",
    "flat_data=np.array(flat_data_arr)\n",
    "target=np.array(target_arr)\n"
   ]
  },
  {
   "cell_type": "code",
   "execution_count": 4,
   "id": "a4f2b88c",
   "metadata": {},
   "outputs": [
    {
     "data": {
      "text/plain": [
       "(725, 67501)"
      ]
     },
     "execution_count": 4,
     "metadata": {},
     "output_type": "execute_result"
    }
   ],
   "source": [
    "#dataframe\n",
    "df=pd.DataFrame(flat_data)\n",
    "df['Target']=target\n",
    "df.shape"
   ]
  },
  {
   "cell_type": "code",
   "execution_count": 5,
   "id": "5d56ab04",
   "metadata": {},
   "outputs": [],
   "source": [
    "#input data\n",
    "x=df.iloc[:,:-1]\n",
    "#output data\n",
    "y=df.iloc[:,-1]\n"
   ]
  },
  {
   "cell_type": "code",
   "execution_count": 6,
   "id": "bff085ce",
   "metadata": {},
   "outputs": [],
   "source": [
    "# Splitting the data into training and testing sets\n",
    "x_train,x_test,y_train,y_test=train_test_split(x, y, test_size=0.20,\n",
    "                                            random_state=77,\n",
    "                                            stratify=y)\n"
   ]
  },
  {
   "cell_type": "code",
   "execution_count": 7,
   "id": "271cd5d2",
   "metadata": {},
   "outputs": [
    {
     "name": "stdout",
     "output_type": "stream",
     "text": [
      "Accuracy of Naive Bayes Classifier: 56.55172413793104%\n",
      "              precision    recall  f1-score   support\n",
      "\n",
      "           0       0.50      0.85      0.63        62\n",
      "           1       0.76      0.35      0.48        83\n",
      "\n",
      "    accuracy                           0.57       145\n",
      "   macro avg       0.63      0.60      0.55       145\n",
      "weighted avg       0.65      0.57      0.54       145\n",
      "\n"
     ]
    }
   ],
   "source": [
    "from sklearn.naive_bayes import GaussianNB\n",
    "# Initialize and train the Naive Bayes classifier\n",
    "nb_classifier = GaussianNB()\n",
    "nb_classifier.fit(x_train, y_train)\n",
    "\n",
    "# Make predictions on the testing data\n",
    "y_pred = nb_classifier.predict(x_test)\n",
    "\n",
    "# Evaluate the model\n",
    "accuracy = accuracy_score(y_test, y_pred)\n",
    "print(f\"Accuracy of Naive Bayes Classifier: {accuracy * 100}%\")\n",
    "\n",
    "# Print classification report\n",
    "print(classification_report(y_test, y_pred))"
   ]
  },
  {
   "cell_type": "code",
   "execution_count": 8,
   "id": "274f635c",
   "metadata": {},
   "outputs": [
    {
     "name": "stdout",
     "output_type": "stream",
     "text": [
      "Accuracy of Decision Tree Classifier: 70.34482758620689%\n",
      "              precision    recall  f1-score   support\n",
      "\n",
      "           0       0.65      0.66      0.66        62\n",
      "           1       0.74      0.73      0.74        83\n",
      "\n",
      "    accuracy                           0.70       145\n",
      "   macro avg       0.70      0.70      0.70       145\n",
      "weighted avg       0.70      0.70      0.70       145\n",
      "\n"
     ]
    }
   ],
   "source": [
    "from sklearn.tree import DecisionTreeClassifier\n",
    "\n",
    "# Initialize and train the Decision Tree classifier\n",
    "dt_classifier = DecisionTreeClassifier(random_state=42)\n",
    "dt_classifier.fit(x_train, y_train)\n",
    "\n",
    "# Make predictions on the testing data\n",
    "y_pred = dt_classifier.predict(x_test)\n",
    "\n",
    "# Evaluate the model\n",
    "accuracy = accuracy_score(y_test, y_pred)\n",
    "print(f\"Accuracy of Decision Tree Classifier: {accuracy * 100}%\")\n",
    "\n",
    "# Print classification report\n",
    "print(classification_report(y_test, y_pred))"
   ]
  },
  {
   "cell_type": "code",
   "execution_count": 9,
   "id": "85c12307",
   "metadata": {},
   "outputs": [
    {
     "name": "stdout",
     "output_type": "stream",
     "text": [
      "Accuracy of Random Forest Classifier: 82.06896551724138%\n",
      "              precision    recall  f1-score   support\n",
      "\n",
      "           0       0.77      0.82      0.80        62\n",
      "           1       0.86      0.82      0.84        83\n",
      "\n",
      "    accuracy                           0.82       145\n",
      "   macro avg       0.82      0.82      0.82       145\n",
      "weighted avg       0.82      0.82      0.82       145\n",
      "\n"
     ]
    }
   ],
   "source": [
    "from sklearn.ensemble import RandomForestClassifier\n",
    "\n",
    "# Initialize the Random Forest classifier\n",
    "rf_classifier = RandomForestClassifier(random_state=42)\n",
    "\n",
    "# Train the classifier using the training data\n",
    "rf_classifier.fit(x_train, y_train)\n",
    "\n",
    "# Make predictions on the testing data\n",
    "y_pred = rf_classifier.predict(x_test)\n",
    "\n",
    "# Evaluate the model\n",
    "accuracy = accuracy_score(y_test, y_pred)\n",
    "print(f\"Accuracy of Random Forest Classifier: {accuracy * 100}%\")\n",
    "\n",
    "# Print classification report\n",
    "print(classification_report(y_test, y_pred))"
   ]
  },
  {
   "cell_type": "code",
   "execution_count": 10,
   "id": "bcc405b3",
   "metadata": {},
   "outputs": [],
   "source": [
    "# Defining the parameters grid for GridSearchCV\n",
    "param_grid={'C':[0.1,1,10,100],\n",
    "            'gamma':[0.0001,0.001,0.1,1],\n",
    "            'kernel':['rbf','poly']}\n",
    "\n",
    "# Creating a support vector classifier\n",
    "svc=svm.SVC(probability=True)\n",
    "\n",
    "# Creating a model using GridSearchCV with the parameters grid\n",
    "model=GridSearchCV(svc,param_grid)\n"
   ]
  },
  {
   "cell_type": "code",
   "execution_count": null,
   "id": "f69249d8",
   "metadata": {},
   "outputs": [],
   "source": [
    "# Training the model using the training data\n",
    "model.fit(x_train,y_train)\n"
   ]
  },
  {
   "cell_type": "code",
   "execution_count": null,
   "id": "91fd37ae",
   "metadata": {},
   "outputs": [],
   "source": [
    "# Testing the model using the testing data\n",
    "y_pred = model.predict(x_test)\n",
    "\n",
    "# Calculating the accuracy of the model\n",
    "accuracy = accuracy_score(y_pred, y_test)\n",
    "\n",
    "# Print the accuracy of the model\n",
    "print(f\"The model is {accuracy*100}% accurate\")\n"
   ]
  },
  {
   "cell_type": "code",
   "execution_count": null,
   "id": "493d48da",
   "metadata": {},
   "outputs": [],
   "source": [
    "print(classification_report(y_test, y_pred, target_names=['no','yes']))\n"
   ]
  },
  {
   "cell_type": "code",
   "execution_count": null,
   "id": "11b7e09c",
   "metadata": {},
   "outputs": [],
   "source": [
    "# import pickle\n",
    "\n",
    "# Assuming 'model' is your trained model object\n",
    "# Save the model to a file named 'svm_model.pkl'\n",
    "# with open('pkl_model.pkl', 'wb') as f:\n",
    "#     pickle.dump(model, f)\n"
   ]
  },
  {
   "cell_type": "code",
   "execution_count": null,
   "id": "7b1e3e8f",
   "metadata": {},
   "outputs": [],
   "source": [
    "# print(classification_report(y_test, y_pred, target_names=['no','yes']))\n"
   ]
  },
  {
   "cell_type": "code",
   "execution_count": null,
   "id": "907417ac",
   "metadata": {
    "scrolled": true
   },
   "outputs": [],
   "source": [
    "# path='PCOS cropped/yes/Picsart_24-02-27_22-22-00-390.jpg'\n",
    "# img=imread(path) \n",
    "# plt.imshow(img) \n",
    "# plt.show() \n",
    "# img_resize=resize(img,(150,150,3)) \n",
    "# l=[img_resize.flatten()] \n",
    "# probability=model.predict_proba(l) \n",
    "# for ind,val in enumerate(Categories): \n",
    "#     print(f'{val} = {probability[0][ind]*100}%') \n",
    "# print(\"The predicted image is : \"+Categories[model.predict(l)[0]])\n"
   ]
  },
  {
   "cell_type": "code",
   "execution_count": null,
   "id": "c079f2d5",
   "metadata": {
    "scrolled": true
   },
   "outputs": [],
   "source": [
    "# path='PCOS cropped/no/Picsart_24-02-27_18-59-32-896.jpg'\n",
    "# img=imread(path) \n",
    "# plt.imshow(img) \n",
    "# plt.show() \n",
    "# img_resize=resize(img,(150,150,3)) \n",
    "# l=[img_resize.flatten()] \n",
    "# probability=model.predict_proba(l) \n",
    "# for ind,val in enumerate(Categories): \n",
    "#     print(f'{val} = {probability[0][ind]*100}%') \n",
    "# print(\"The predicted image is : \"+Categories[model.predict(l)[0]])\n"
   ]
  },
  {
   "cell_type": "code",
   "execution_count": null,
   "id": "76b59926",
   "metadata": {},
   "outputs": [],
   "source": []
  }
 ],
 "metadata": {
  "kernelspec": {
   "display_name": "Python 3 (ipykernel)",
   "language": "python",
   "name": "python3"
  },
  "language_info": {
   "codemirror_mode": {
    "name": "ipython",
    "version": 3
   },
   "file_extension": ".py",
   "mimetype": "text/x-python",
   "name": "python",
   "nbconvert_exporter": "python",
   "pygments_lexer": "ipython3",
   "version": "3.11.5"
  }
 },
 "nbformat": 4,
 "nbformat_minor": 5
}
